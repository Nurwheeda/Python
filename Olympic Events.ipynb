{
 "cells": [
  {
   "cell_type": "markdown",
   "id": "33fdbf37-f911-4987-8b81-5c949a72502f",
   "metadata": {},
   "source": [
    "Try"
   ]
  },
  {
   "cell_type": "markdown",
   "id": "738e2487-6bc1-4e7d-a9fd-fc40e95b651d",
   "metadata": {},
   "source": [
    "## Load and Inspect Data"
   ]
  },
  {
   "cell_type": "code",
   "execution_count": 1,
   "id": "76dae2ff-9328-4ad7-b7e1-d1817cd043ac",
   "metadata": {},
   "outputs": [],
   "source": [
    "import pandas as pd"
   ]
  },
  {
   "cell_type": "code",
   "execution_count": 2,
   "id": "743dc9d3-aa7b-48de-bfe5-206cb27a8b28",
   "metadata": {},
   "outputs": [
    {
     "data": {
      "text/html": [
       "<div>\n",
       "<style scoped>\n",
       "    .dataframe tbody tr th:only-of-type {\n",
       "        vertical-align: middle;\n",
       "    }\n",
       "\n",
       "    .dataframe tbody tr th {\n",
       "        vertical-align: top;\n",
       "    }\n",
       "\n",
       "    .dataframe thead th {\n",
       "        text-align: right;\n",
       "    }\n",
       "</style>\n",
       "<table border=\"1\" class=\"dataframe\">\n",
       "  <thead>\n",
       "    <tr style=\"text-align: right;\">\n",
       "      <th></th>\n",
       "      <th>Name</th>\n",
       "      <th>Sex</th>\n",
       "      <th>Age</th>\n",
       "      <th>Height</th>\n",
       "      <th>Weight</th>\n",
       "      <th>Nationality</th>\n",
       "      <th>Sport</th>\n",
       "      <th>Event</th>\n",
       "      <th>Medal</th>\n",
       "      <th>GamesID</th>\n",
       "    </tr>\n",
       "  </thead>\n",
       "  <tbody>\n",
       "    <tr>\n",
       "      <th>0</th>\n",
       "      <td>A Dijiang</td>\n",
       "      <td>M</td>\n",
       "      <td>24.0</td>\n",
       "      <td>180.0</td>\n",
       "      <td>80.0</td>\n",
       "      <td>CHN</td>\n",
       "      <td>Basketball</td>\n",
       "      <td>Basketball Men's Basketball</td>\n",
       "      <td>NaN</td>\n",
       "      <td>37</td>\n",
       "    </tr>\n",
       "    <tr>\n",
       "      <th>1</th>\n",
       "      <td>A Lamusi</td>\n",
       "      <td>M</td>\n",
       "      <td>23.0</td>\n",
       "      <td>170.0</td>\n",
       "      <td>60.0</td>\n",
       "      <td>CHN</td>\n",
       "      <td>Judo</td>\n",
       "      <td>Judo Men's Extra-Lightweight</td>\n",
       "      <td>NaN</td>\n",
       "      <td>48</td>\n",
       "    </tr>\n",
       "    <tr>\n",
       "      <th>2</th>\n",
       "      <td>Gunnar Nielsen Aaby</td>\n",
       "      <td>M</td>\n",
       "      <td>24.0</td>\n",
       "      <td>NaN</td>\n",
       "      <td>NaN</td>\n",
       "      <td>DEN</td>\n",
       "      <td>Football</td>\n",
       "      <td>Football Men's Football</td>\n",
       "      <td>NaN</td>\n",
       "      <td>6</td>\n",
       "    </tr>\n",
       "    <tr>\n",
       "      <th>3</th>\n",
       "      <td>Edgar Lindenau Aabye</td>\n",
       "      <td>M</td>\n",
       "      <td>34.0</td>\n",
       "      <td>NaN</td>\n",
       "      <td>NaN</td>\n",
       "      <td>DEN</td>\n",
       "      <td>Tug-Of-War</td>\n",
       "      <td>Tug-Of-War Men's Tug-Of-War</td>\n",
       "      <td>Gold</td>\n",
       "      <td>1</td>\n",
       "    </tr>\n",
       "    <tr>\n",
       "      <th>4</th>\n",
       "      <td>Christine Jacoba Aaftink</td>\n",
       "      <td>F</td>\n",
       "      <td>21.0</td>\n",
       "      <td>185.0</td>\n",
       "      <td>82.0</td>\n",
       "      <td>NED</td>\n",
       "      <td>Speed Skating</td>\n",
       "      <td>Speed Skating Women's 500 metres</td>\n",
       "      <td>NaN</td>\n",
       "      <td>36</td>\n",
       "    </tr>\n",
       "  </tbody>\n",
       "</table>\n",
       "</div>"
      ],
      "text/plain": [
       "                       Name Sex   Age  Height  Weight Nationality  \\\n",
       "0                 A Dijiang   M  24.0   180.0    80.0         CHN   \n",
       "1                  A Lamusi   M  23.0   170.0    60.0         CHN   \n",
       "2       Gunnar Nielsen Aaby   M  24.0     NaN     NaN         DEN   \n",
       "3      Edgar Lindenau Aabye   M  34.0     NaN     NaN         DEN   \n",
       "4  Christine Jacoba Aaftink   F  21.0   185.0    82.0         NED   \n",
       "\n",
       "           Sport                             Event Medal  GamesID  \n",
       "0     Basketball       Basketball Men's Basketball   NaN       37  \n",
       "1           Judo      Judo Men's Extra-Lightweight   NaN       48  \n",
       "2       Football           Football Men's Football   NaN        6  \n",
       "3     Tug-Of-War       Tug-Of-War Men's Tug-Of-War  Gold        1  \n",
       "4  Speed Skating  Speed Skating Women's 500 metres   NaN       36  "
      ]
     },
     "execution_count": 2,
     "metadata": {},
     "output_type": "execute_result"
    }
   ],
   "source": [
    "olympics_events = pd.read_csv(\"olympics_events.csv\")\n",
    "olympics_events.head()"
   ]
  },
  {
   "cell_type": "code",
   "execution_count": 3,
   "id": "b72c1d52-8001-42bc-b540-d1b3d50b8c95",
   "metadata": {},
   "outputs": [
    {
     "data": {
      "text/plain": [
       "(271116, 10)"
      ]
     },
     "execution_count": 3,
     "metadata": {},
     "output_type": "execute_result"
    }
   ],
   "source": [
    "olympics_events.shape"
   ]
  },
  {
   "cell_type": "code",
   "execution_count": 4,
   "id": "6f67f03a-36aa-439a-8938-2e789e21a33c",
   "metadata": {},
   "outputs": [
    {
     "data": {
      "text/html": [
       "<div>\n",
       "<style scoped>\n",
       "    .dataframe tbody tr th:only-of-type {\n",
       "        vertical-align: middle;\n",
       "    }\n",
       "\n",
       "    .dataframe tbody tr th {\n",
       "        vertical-align: top;\n",
       "    }\n",
       "\n",
       "    .dataframe thead th {\n",
       "        text-align: right;\n",
       "    }\n",
       "</style>\n",
       "<table border=\"1\" class=\"dataframe\">\n",
       "  <thead>\n",
       "    <tr style=\"text-align: right;\">\n",
       "      <th></th>\n",
       "      <th>ID</th>\n",
       "      <th>Year</th>\n",
       "      <th>Season</th>\n",
       "      <th>City</th>\n",
       "    </tr>\n",
       "  </thead>\n",
       "  <tbody>\n",
       "    <tr>\n",
       "      <th>0</th>\n",
       "      <td>0</td>\n",
       "      <td>1896</td>\n",
       "      <td>Summer</td>\n",
       "      <td>Athina</td>\n",
       "    </tr>\n",
       "    <tr>\n",
       "      <th>1</th>\n",
       "      <td>1</td>\n",
       "      <td>1900</td>\n",
       "      <td>Summer</td>\n",
       "      <td>Paris</td>\n",
       "    </tr>\n",
       "    <tr>\n",
       "      <th>2</th>\n",
       "      <td>2</td>\n",
       "      <td>1904</td>\n",
       "      <td>Summer</td>\n",
       "      <td>St. Louis</td>\n",
       "    </tr>\n",
       "    <tr>\n",
       "      <th>3</th>\n",
       "      <td>3</td>\n",
       "      <td>1906</td>\n",
       "      <td>Summer</td>\n",
       "      <td>Athina</td>\n",
       "    </tr>\n",
       "    <tr>\n",
       "      <th>4</th>\n",
       "      <td>4</td>\n",
       "      <td>1908</td>\n",
       "      <td>Summer</td>\n",
       "      <td>London</td>\n",
       "    </tr>\n",
       "  </tbody>\n",
       "</table>\n",
       "</div>"
      ],
      "text/plain": [
       "   ID  Year  Season       City\n",
       "0   0  1896  Summer     Athina\n",
       "1   1  1900  Summer      Paris\n",
       "2   2  1904  Summer  St. Louis\n",
       "3   3  1906  Summer     Athina\n",
       "4   4  1908  Summer     London"
      ]
     },
     "execution_count": 4,
     "metadata": {},
     "output_type": "execute_result"
    }
   ],
   "source": [
    "olympics_games = pd.read_csv(\"olympics_games.csv\")\n",
    "olympics_games.head()"
   ]
  },
  {
   "cell_type": "code",
   "execution_count": 5,
   "id": "9415ba0f-0798-4324-be45-cbb6b86d959b",
   "metadata": {},
   "outputs": [
    {
     "data": {
      "text/plain": [
       "(51, 4)"
      ]
     },
     "execution_count": 5,
     "metadata": {},
     "output_type": "execute_result"
    }
   ],
   "source": [
    "olympics_games.shape"
   ]
  },
  {
   "cell_type": "code",
   "execution_count": 7,
   "id": "82ea7b7b-58bf-4499-b033-dc0c882ea1da",
   "metadata": {},
   "outputs": [
    {
     "data": {
      "text/html": [
       "<div>\n",
       "<style scoped>\n",
       "    .dataframe tbody tr th:only-of-type {\n",
       "        vertical-align: middle;\n",
       "    }\n",
       "\n",
       "    .dataframe tbody tr th {\n",
       "        vertical-align: top;\n",
       "    }\n",
       "\n",
       "    .dataframe thead th {\n",
       "        text-align: right;\n",
       "    }\n",
       "</style>\n",
       "<table border=\"1\" class=\"dataframe\">\n",
       "  <thead>\n",
       "    <tr style=\"text-align: right;\">\n",
       "      <th></th>\n",
       "      <th>Name</th>\n",
       "      <th>Sex</th>\n",
       "      <th>Age</th>\n",
       "      <th>Height</th>\n",
       "      <th>Weight</th>\n",
       "      <th>Nationality</th>\n",
       "      <th>Sport</th>\n",
       "      <th>Event</th>\n",
       "      <th>Medal</th>\n",
       "      <th>GamesID</th>\n",
       "      <th>Year</th>\n",
       "      <th>Season</th>\n",
       "      <th>City</th>\n",
       "    </tr>\n",
       "  </thead>\n",
       "  <tbody>\n",
       "    <tr>\n",
       "      <th>0</th>\n",
       "      <td>A Dijiang</td>\n",
       "      <td>M</td>\n",
       "      <td>24.0</td>\n",
       "      <td>180.0</td>\n",
       "      <td>80.0</td>\n",
       "      <td>CHN</td>\n",
       "      <td>Basketball</td>\n",
       "      <td>Basketball Men's Basketball</td>\n",
       "      <td>NaN</td>\n",
       "      <td>37</td>\n",
       "      <td>1992</td>\n",
       "      <td>Summer</td>\n",
       "      <td>Barcelona</td>\n",
       "    </tr>\n",
       "    <tr>\n",
       "      <th>1</th>\n",
       "      <td>Mika Lauri Aarnikka</td>\n",
       "      <td>M</td>\n",
       "      <td>24.0</td>\n",
       "      <td>187.0</td>\n",
       "      <td>76.0</td>\n",
       "      <td>FIN</td>\n",
       "      <td>Sailing</td>\n",
       "      <td>Sailing Men's Two Person Dinghy</td>\n",
       "      <td>NaN</td>\n",
       "      <td>37</td>\n",
       "      <td>1992</td>\n",
       "      <td>Summer</td>\n",
       "      <td>Barcelona</td>\n",
       "    </tr>\n",
       "    <tr>\n",
       "      <th>2</th>\n",
       "      <td>Morten Gjerdrum Aasen</td>\n",
       "      <td>M</td>\n",
       "      <td>34.0</td>\n",
       "      <td>185.0</td>\n",
       "      <td>75.0</td>\n",
       "      <td>NOR</td>\n",
       "      <td>Equestrianism</td>\n",
       "      <td>Equestrianism Mixed Jumping, Individual</td>\n",
       "      <td>NaN</td>\n",
       "      <td>37</td>\n",
       "      <td>1992</td>\n",
       "      <td>Summer</td>\n",
       "      <td>Barcelona</td>\n",
       "    </tr>\n",
       "    <tr>\n",
       "      <th>3</th>\n",
       "      <td>Arvi Aavik</td>\n",
       "      <td>M</td>\n",
       "      <td>22.0</td>\n",
       "      <td>185.0</td>\n",
       "      <td>106.0</td>\n",
       "      <td>EST</td>\n",
       "      <td>Wrestling</td>\n",
       "      <td>Wrestling Men's Heavyweight, Freestyle</td>\n",
       "      <td>NaN</td>\n",
       "      <td>37</td>\n",
       "      <td>1992</td>\n",
       "      <td>Summer</td>\n",
       "      <td>Barcelona</td>\n",
       "    </tr>\n",
       "    <tr>\n",
       "      <th>4</th>\n",
       "      <td>M'Bairo Abakar</td>\n",
       "      <td>M</td>\n",
       "      <td>31.0</td>\n",
       "      <td>NaN</td>\n",
       "      <td>NaN</td>\n",
       "      <td>CHA</td>\n",
       "      <td>Judo</td>\n",
       "      <td>Judo Men's Half-Middleweight</td>\n",
       "      <td>NaN</td>\n",
       "      <td>37</td>\n",
       "      <td>1992</td>\n",
       "      <td>Summer</td>\n",
       "      <td>Barcelona</td>\n",
       "    </tr>\n",
       "    <tr>\n",
       "      <th>...</th>\n",
       "      <td>...</td>\n",
       "      <td>...</td>\n",
       "      <td>...</td>\n",
       "      <td>...</td>\n",
       "      <td>...</td>\n",
       "      <td>...</td>\n",
       "      <td>...</td>\n",
       "      <td>...</td>\n",
       "      <td>...</td>\n",
       "      <td>...</td>\n",
       "      <td>...</td>\n",
       "      <td>...</td>\n",
       "      <td>...</td>\n",
       "    </tr>\n",
       "    <tr>\n",
       "      <th>271111</th>\n",
       "      <td>Khristos Zoumis</td>\n",
       "      <td>M</td>\n",
       "      <td>NaN</td>\n",
       "      <td>NaN</td>\n",
       "      <td>NaN</td>\n",
       "      <td>GRE</td>\n",
       "      <td>Athletics</td>\n",
       "      <td>Athletics Men's Triple Jump</td>\n",
       "      <td>NaN</td>\n",
       "      <td>0</td>\n",
       "      <td>1896</td>\n",
       "      <td>Summer</td>\n",
       "      <td>Athina</td>\n",
       "    </tr>\n",
       "    <tr>\n",
       "      <th>271112</th>\n",
       "      <td>Jules Alexis \"Louis\" Zutter</td>\n",
       "      <td>M</td>\n",
       "      <td>30.0</td>\n",
       "      <td>NaN</td>\n",
       "      <td>NaN</td>\n",
       "      <td>SUI</td>\n",
       "      <td>Gymnastics</td>\n",
       "      <td>Gymnastics Men's Horse Vault</td>\n",
       "      <td>Silver</td>\n",
       "      <td>0</td>\n",
       "      <td>1896</td>\n",
       "      <td>Summer</td>\n",
       "      <td>Athina</td>\n",
       "    </tr>\n",
       "    <tr>\n",
       "      <th>271113</th>\n",
       "      <td>Jules Alexis \"Louis\" Zutter</td>\n",
       "      <td>M</td>\n",
       "      <td>30.0</td>\n",
       "      <td>NaN</td>\n",
       "      <td>NaN</td>\n",
       "      <td>SUI</td>\n",
       "      <td>Gymnastics</td>\n",
       "      <td>Gymnastics Men's Parallel Bars</td>\n",
       "      <td>Silver</td>\n",
       "      <td>0</td>\n",
       "      <td>1896</td>\n",
       "      <td>Summer</td>\n",
       "      <td>Athina</td>\n",
       "    </tr>\n",
       "    <tr>\n",
       "      <th>271114</th>\n",
       "      <td>Jules Alexis \"Louis\" Zutter</td>\n",
       "      <td>M</td>\n",
       "      <td>30.0</td>\n",
       "      <td>NaN</td>\n",
       "      <td>NaN</td>\n",
       "      <td>SUI</td>\n",
       "      <td>Gymnastics</td>\n",
       "      <td>Gymnastics Men's Horizontal Bar</td>\n",
       "      <td>NaN</td>\n",
       "      <td>0</td>\n",
       "      <td>1896</td>\n",
       "      <td>Summer</td>\n",
       "      <td>Athina</td>\n",
       "    </tr>\n",
       "    <tr>\n",
       "      <th>271115</th>\n",
       "      <td>Jules Alexis \"Louis\" Zutter</td>\n",
       "      <td>M</td>\n",
       "      <td>30.0</td>\n",
       "      <td>NaN</td>\n",
       "      <td>NaN</td>\n",
       "      <td>SUI</td>\n",
       "      <td>Gymnastics</td>\n",
       "      <td>Gymnastics Men's Pommelled Horse</td>\n",
       "      <td>Gold</td>\n",
       "      <td>0</td>\n",
       "      <td>1896</td>\n",
       "      <td>Summer</td>\n",
       "      <td>Athina</td>\n",
       "    </tr>\n",
       "  </tbody>\n",
       "</table>\n",
       "<p>271116 rows × 13 columns</p>\n",
       "</div>"
      ],
      "text/plain": [
       "                               Name Sex   Age  Height  Weight Nationality  \\\n",
       "0                         A Dijiang   M  24.0   180.0    80.0         CHN   \n",
       "1               Mika Lauri Aarnikka   M  24.0   187.0    76.0         FIN   \n",
       "2             Morten Gjerdrum Aasen   M  34.0   185.0    75.0         NOR   \n",
       "3                        Arvi Aavik   M  22.0   185.0   106.0         EST   \n",
       "4                    M'Bairo Abakar   M  31.0     NaN     NaN         CHA   \n",
       "...                             ...  ..   ...     ...     ...         ...   \n",
       "271111              Khristos Zoumis   M   NaN     NaN     NaN         GRE   \n",
       "271112  Jules Alexis \"Louis\" Zutter   M  30.0     NaN     NaN         SUI   \n",
       "271113  Jules Alexis \"Louis\" Zutter   M  30.0     NaN     NaN         SUI   \n",
       "271114  Jules Alexis \"Louis\" Zutter   M  30.0     NaN     NaN         SUI   \n",
       "271115  Jules Alexis \"Louis\" Zutter   M  30.0     NaN     NaN         SUI   \n",
       "\n",
       "                Sport                                    Event   Medal  \\\n",
       "0          Basketball              Basketball Men's Basketball     NaN   \n",
       "1             Sailing          Sailing Men's Two Person Dinghy     NaN   \n",
       "2       Equestrianism  Equestrianism Mixed Jumping, Individual     NaN   \n",
       "3           Wrestling   Wrestling Men's Heavyweight, Freestyle     NaN   \n",
       "4                Judo             Judo Men's Half-Middleweight     NaN   \n",
       "...               ...                                      ...     ...   \n",
       "271111      Athletics              Athletics Men's Triple Jump     NaN   \n",
       "271112     Gymnastics             Gymnastics Men's Horse Vault  Silver   \n",
       "271113     Gymnastics           Gymnastics Men's Parallel Bars  Silver   \n",
       "271114     Gymnastics          Gymnastics Men's Horizontal Bar     NaN   \n",
       "271115     Gymnastics         Gymnastics Men's Pommelled Horse    Gold   \n",
       "\n",
       "        GamesID  Year  Season       City  \n",
       "0            37  1992  Summer  Barcelona  \n",
       "1            37  1992  Summer  Barcelona  \n",
       "2            37  1992  Summer  Barcelona  \n",
       "3            37  1992  Summer  Barcelona  \n",
       "4            37  1992  Summer  Barcelona  \n",
       "...         ...   ...     ...        ...  \n",
       "271111        0  1896  Summer     Athina  \n",
       "271112        0  1896  Summer     Athina  \n",
       "271113        0  1896  Summer     Athina  \n",
       "271114        0  1896  Summer     Athina  \n",
       "271115        0  1896  Summer     Athina  \n",
       "\n",
       "[271116 rows x 13 columns]"
      ]
     },
     "execution_count": 7,
     "metadata": {},
     "output_type": "execute_result"
    }
   ],
   "source": [
    "olympics_merge = pd.merge(olympics_events, olympics_games, left_on=\"GamesID\", right_on=\"ID\").drop('ID', axis=1)\n",
    "olympics_merge"
   ]
  },
  {
   "cell_type": "code",
   "execution_count": 8,
   "id": "1234e0e8-5549-48e8-baec-72a65e60e9af",
   "metadata": {},
   "outputs": [
    {
     "data": {
      "text/html": [
       "<div>\n",
       "<style scoped>\n",
       "    .dataframe tbody tr th:only-of-type {\n",
       "        vertical-align: middle;\n",
       "    }\n",
       "\n",
       "    .dataframe tbody tr th {\n",
       "        vertical-align: top;\n",
       "    }\n",
       "\n",
       "    .dataframe thead th {\n",
       "        text-align: right;\n",
       "    }\n",
       "</style>\n",
       "<table border=\"1\" class=\"dataframe\">\n",
       "  <thead>\n",
       "    <tr style=\"text-align: right;\">\n",
       "      <th></th>\n",
       "      <th>Name</th>\n",
       "      <th>Sex</th>\n",
       "      <th>Age</th>\n",
       "      <th>Height</th>\n",
       "      <th>Weight</th>\n",
       "      <th>Nationality</th>\n",
       "      <th>Sport</th>\n",
       "      <th>Event</th>\n",
       "      <th>Medal</th>\n",
       "      <th>GamesID</th>\n",
       "      <th>Year</th>\n",
       "      <th>Season</th>\n",
       "      <th>City</th>\n",
       "    </tr>\n",
       "  </thead>\n",
       "  <tbody>\n",
       "    <tr>\n",
       "      <th>count</th>\n",
       "      <td>271116</td>\n",
       "      <td>271116</td>\n",
       "      <td>261642.000000</td>\n",
       "      <td>210945.000000</td>\n",
       "      <td>208241.000000</td>\n",
       "      <td>271116</td>\n",
       "      <td>271116</td>\n",
       "      <td>271116</td>\n",
       "      <td>39783</td>\n",
       "      <td>271116.000000</td>\n",
       "      <td>271116.000000</td>\n",
       "      <td>271116</td>\n",
       "      <td>271116</td>\n",
       "    </tr>\n",
       "    <tr>\n",
       "      <th>unique</th>\n",
       "      <td>134732</td>\n",
       "      <td>2</td>\n",
       "      <td>NaN</td>\n",
       "      <td>NaN</td>\n",
       "      <td>NaN</td>\n",
       "      <td>230</td>\n",
       "      <td>66</td>\n",
       "      <td>765</td>\n",
       "      <td>3</td>\n",
       "      <td>NaN</td>\n",
       "      <td>NaN</td>\n",
       "      <td>2</td>\n",
       "      <td>42</td>\n",
       "    </tr>\n",
       "    <tr>\n",
       "      <th>top</th>\n",
       "      <td>Robert Tait McKenzie</td>\n",
       "      <td>M</td>\n",
       "      <td>NaN</td>\n",
       "      <td>NaN</td>\n",
       "      <td>NaN</td>\n",
       "      <td>USA</td>\n",
       "      <td>Athletics</td>\n",
       "      <td>Football Men's Football</td>\n",
       "      <td>Gold</td>\n",
       "      <td>NaN</td>\n",
       "      <td>NaN</td>\n",
       "      <td>Summer</td>\n",
       "      <td>London</td>\n",
       "    </tr>\n",
       "    <tr>\n",
       "      <th>freq</th>\n",
       "      <td>58</td>\n",
       "      <td>196594</td>\n",
       "      <td>NaN</td>\n",
       "      <td>NaN</td>\n",
       "      <td>NaN</td>\n",
       "      <td>18853</td>\n",
       "      <td>38624</td>\n",
       "      <td>5733</td>\n",
       "      <td>13372</td>\n",
       "      <td>NaN</td>\n",
       "      <td>NaN</td>\n",
       "      <td>222552</td>\n",
       "      <td>22426</td>\n",
       "    </tr>\n",
       "    <tr>\n",
       "      <th>mean</th>\n",
       "      <td>NaN</td>\n",
       "      <td>NaN</td>\n",
       "      <td>25.556898</td>\n",
       "      <td>175.338970</td>\n",
       "      <td>70.702393</td>\n",
       "      <td>NaN</td>\n",
       "      <td>NaN</td>\n",
       "      <td>NaN</td>\n",
       "      <td>NaN</td>\n",
       "      <td>31.481340</td>\n",
       "      <td>1978.378480</td>\n",
       "      <td>NaN</td>\n",
       "      <td>NaN</td>\n",
       "    </tr>\n",
       "    <tr>\n",
       "      <th>std</th>\n",
       "      <td>NaN</td>\n",
       "      <td>NaN</td>\n",
       "      <td>6.393561</td>\n",
       "      <td>10.518462</td>\n",
       "      <td>14.348020</td>\n",
       "      <td>NaN</td>\n",
       "      <td>NaN</td>\n",
       "      <td>NaN</td>\n",
       "      <td>NaN</td>\n",
       "      <td>13.701265</td>\n",
       "      <td>29.877632</td>\n",
       "      <td>NaN</td>\n",
       "      <td>NaN</td>\n",
       "    </tr>\n",
       "    <tr>\n",
       "      <th>min</th>\n",
       "      <td>NaN</td>\n",
       "      <td>NaN</td>\n",
       "      <td>10.000000</td>\n",
       "      <td>127.000000</td>\n",
       "      <td>25.000000</td>\n",
       "      <td>NaN</td>\n",
       "      <td>NaN</td>\n",
       "      <td>NaN</td>\n",
       "      <td>NaN</td>\n",
       "      <td>0.000000</td>\n",
       "      <td>1896.000000</td>\n",
       "      <td>NaN</td>\n",
       "      <td>NaN</td>\n",
       "    </tr>\n",
       "    <tr>\n",
       "      <th>25%</th>\n",
       "      <td>NaN</td>\n",
       "      <td>NaN</td>\n",
       "      <td>21.000000</td>\n",
       "      <td>168.000000</td>\n",
       "      <td>60.000000</td>\n",
       "      <td>NaN</td>\n",
       "      <td>NaN</td>\n",
       "      <td>NaN</td>\n",
       "      <td>NaN</td>\n",
       "      <td>21.000000</td>\n",
       "      <td>1960.000000</td>\n",
       "      <td>NaN</td>\n",
       "      <td>NaN</td>\n",
       "    </tr>\n",
       "    <tr>\n",
       "      <th>50%</th>\n",
       "      <td>NaN</td>\n",
       "      <td>NaN</td>\n",
       "      <td>24.000000</td>\n",
       "      <td>175.000000</td>\n",
       "      <td>70.000000</td>\n",
       "      <td>NaN</td>\n",
       "      <td>NaN</td>\n",
       "      <td>NaN</td>\n",
       "      <td>NaN</td>\n",
       "      <td>35.000000</td>\n",
       "      <td>1988.000000</td>\n",
       "      <td>NaN</td>\n",
       "      <td>NaN</td>\n",
       "    </tr>\n",
       "    <tr>\n",
       "      <th>75%</th>\n",
       "      <td>NaN</td>\n",
       "      <td>NaN</td>\n",
       "      <td>28.000000</td>\n",
       "      <td>183.000000</td>\n",
       "      <td>79.000000</td>\n",
       "      <td>NaN</td>\n",
       "      <td>NaN</td>\n",
       "      <td>NaN</td>\n",
       "      <td>NaN</td>\n",
       "      <td>43.000000</td>\n",
       "      <td>2002.000000</td>\n",
       "      <td>NaN</td>\n",
       "      <td>NaN</td>\n",
       "    </tr>\n",
       "    <tr>\n",
       "      <th>max</th>\n",
       "      <td>NaN</td>\n",
       "      <td>NaN</td>\n",
       "      <td>97.000000</td>\n",
       "      <td>226.000000</td>\n",
       "      <td>214.000000</td>\n",
       "      <td>NaN</td>\n",
       "      <td>NaN</td>\n",
       "      <td>NaN</td>\n",
       "      <td>NaN</td>\n",
       "      <td>50.000000</td>\n",
       "      <td>2016.000000</td>\n",
       "      <td>NaN</td>\n",
       "      <td>NaN</td>\n",
       "    </tr>\n",
       "  </tbody>\n",
       "</table>\n",
       "</div>"
      ],
      "text/plain": [
       "                        Name     Sex            Age         Height  \\\n",
       "count                 271116  271116  261642.000000  210945.000000   \n",
       "unique                134732       2            NaN            NaN   \n",
       "top     Robert Tait McKenzie       M            NaN            NaN   \n",
       "freq                      58  196594            NaN            NaN   \n",
       "mean                     NaN     NaN      25.556898     175.338970   \n",
       "std                      NaN     NaN       6.393561      10.518462   \n",
       "min                      NaN     NaN      10.000000     127.000000   \n",
       "25%                      NaN     NaN      21.000000     168.000000   \n",
       "50%                      NaN     NaN      24.000000     175.000000   \n",
       "75%                      NaN     NaN      28.000000     183.000000   \n",
       "max                      NaN     NaN      97.000000     226.000000   \n",
       "\n",
       "               Weight Nationality      Sport                    Event  Medal  \\\n",
       "count   208241.000000      271116     271116                   271116  39783   \n",
       "unique            NaN         230         66                      765      3   \n",
       "top               NaN         USA  Athletics  Football Men's Football   Gold   \n",
       "freq              NaN       18853      38624                     5733  13372   \n",
       "mean        70.702393         NaN        NaN                      NaN    NaN   \n",
       "std         14.348020         NaN        NaN                      NaN    NaN   \n",
       "min         25.000000         NaN        NaN                      NaN    NaN   \n",
       "25%         60.000000         NaN        NaN                      NaN    NaN   \n",
       "50%         70.000000         NaN        NaN                      NaN    NaN   \n",
       "75%         79.000000         NaN        NaN                      NaN    NaN   \n",
       "max        214.000000         NaN        NaN                      NaN    NaN   \n",
       "\n",
       "              GamesID           Year  Season    City  \n",
       "count   271116.000000  271116.000000  271116  271116  \n",
       "unique            NaN            NaN       2      42  \n",
       "top               NaN            NaN  Summer  London  \n",
       "freq              NaN            NaN  222552   22426  \n",
       "mean        31.481340    1978.378480     NaN     NaN  \n",
       "std         13.701265      29.877632     NaN     NaN  \n",
       "min          0.000000    1896.000000     NaN     NaN  \n",
       "25%         21.000000    1960.000000     NaN     NaN  \n",
       "50%         35.000000    1988.000000     NaN     NaN  \n",
       "75%         43.000000    2002.000000     NaN     NaN  \n",
       "max         50.000000    2016.000000     NaN     NaN  "
      ]
     },
     "execution_count": 8,
     "metadata": {},
     "output_type": "execute_result"
    }
   ],
   "source": [
    "olympics_merge.describe(include='all') #return both instead of only numeric by default"
   ]
  },
  {
   "cell_type": "markdown",
   "id": "554c27b8-3d5a-4eb4-8eef-6c0b19c0ea17",
   "metadata": {},
   "source": [
    "#### _Creating Categorical Variable_"
   ]
  },
  {
   "cell_type": "code",
   "execution_count": 9,
   "id": "9507674f-439d-4bfc-a7c4-b2baf497c418",
   "metadata": {
    "tags": []
   },
   "outputs": [],
   "source": [
    "for x in ['Name', 'Sex', 'Nationality', 'Sport', 'Event', 'Medal','Season', 'City']:\n",
    "    olympics_merge[x]=olympics_merge[x].astype('object')"
   ]
  },
  {
   "cell_type": "markdown",
   "id": "b4817af7-cb6e-4613-9d30-49d327f1072d",
   "metadata": {},
   "source": [
    "#### _Separating Categorical and Numeric Variable_"
   ]
  },
  {
   "cell_type": "code",
   "execution_count": 10,
   "id": "49a2c4ff-927e-481e-ab07-a1f43a1b5a11",
   "metadata": {},
   "outputs": [
    {
     "name": "stdout",
     "output_type": "stream",
     "text": [
      "Numerical Variable : ['Age', 'Height', 'Weight', 'GamesID', 'Year']\n",
      "\n",
      "Categorical Variable : ['Name', 'Sex', 'Nationality', 'Sport', 'Event', 'Medal', 'Season', 'City']\n"
     ]
    }
   ],
   "source": [
    "# Find Numerical variable in Data frame.\n",
    "# This will return a list\n",
    "num_olympics = [key for key in dict(olympics_merge.dtypes) if dict(olympics_merge.dtypes)[key] in ['float64', 'int64', 'float32', 'int32']]\n",
    "\n",
    "# Find Categorical variable in Data frame\n",
    "cat_olympics = [key for key in dict(olympics_merge.dtypes) if dict(olympics_merge.dtypes)[key] in ['object']]\n",
    "\n",
    "#Print the data frame\n",
    "print(\"Numerical Variable :\", num_olympics)\n",
    "print()\n",
    "print(\"Categorical Variable :\", cat_olympics)"
   ]
  },
  {
   "cell_type": "markdown",
   "id": "01617350-9964-4bcd-a769-515486ee74c7",
   "metadata": {},
   "source": [
    "#### _Convert List to Dataframe_"
   ]
  },
  {
   "cell_type": "code",
   "execution_count": 12,
   "id": "a94b801f-211e-467c-a6dd-2981c2883ef5",
   "metadata": {
    "tags": []
   },
   "outputs": [
    {
     "data": {
      "text/html": [
       "<div>\n",
       "<style scoped>\n",
       "    .dataframe tbody tr th:only-of-type {\n",
       "        vertical-align: middle;\n",
       "    }\n",
       "\n",
       "    .dataframe tbody tr th {\n",
       "        vertical-align: top;\n",
       "    }\n",
       "\n",
       "    .dataframe thead th {\n",
       "        text-align: right;\n",
       "    }\n",
       "</style>\n",
       "<table border=\"1\" class=\"dataframe\">\n",
       "  <thead>\n",
       "    <tr style=\"text-align: right;\">\n",
       "      <th></th>\n",
       "      <th>Age</th>\n",
       "      <th>Height</th>\n",
       "      <th>Weight</th>\n",
       "      <th>GamesID</th>\n",
       "      <th>Year</th>\n",
       "    </tr>\n",
       "  </thead>\n",
       "  <tbody>\n",
       "    <tr>\n",
       "      <th>42602</th>\n",
       "      <td>62.0</td>\n",
       "      <td>NaN</td>\n",
       "      <td>NaN</td>\n",
       "      <td>11</td>\n",
       "      <td>1932</td>\n",
       "    </tr>\n",
       "    <tr>\n",
       "      <th>171960</th>\n",
       "      <td>23.0</td>\n",
       "      <td>162.0</td>\n",
       "      <td>56.0</td>\n",
       "      <td>25</td>\n",
       "      <td>1968</td>\n",
       "    </tr>\n",
       "    <tr>\n",
       "      <th>182398</th>\n",
       "      <td>26.0</td>\n",
       "      <td>168.0</td>\n",
       "      <td>73.0</td>\n",
       "      <td>27</td>\n",
       "      <td>1972</td>\n",
       "    </tr>\n",
       "    <tr>\n",
       "      <th>142073</th>\n",
       "      <td>23.0</td>\n",
       "      <td>178.0</td>\n",
       "      <td>71.0</td>\n",
       "      <td>44</td>\n",
       "      <td>2004</td>\n",
       "    </tr>\n",
       "    <tr>\n",
       "      <th>207952</th>\n",
       "      <td>27.0</td>\n",
       "      <td>NaN</td>\n",
       "      <td>NaN</td>\n",
       "      <td>18</td>\n",
       "      <td>1952</td>\n",
       "    </tr>\n",
       "  </tbody>\n",
       "</table>\n",
       "</div>"
      ],
      "text/plain": [
       "         Age  Height  Weight  GamesID  Year\n",
       "42602   62.0     NaN     NaN       11  1932\n",
       "171960  23.0   162.0    56.0       25  1968\n",
       "182398  26.0   168.0    73.0       27  1972\n",
       "142073  23.0   178.0    71.0       44  2004\n",
       "207952  27.0     NaN     NaN       18  1952"
      ]
     },
     "execution_count": 12,
     "metadata": {},
     "output_type": "execute_result"
    }
   ],
   "source": [
    "olympics_num = olympics_merge[num_olympics]\n",
    "olympics_num.sample(5)             #insert list to dataframe"
   ]
  },
  {
   "cell_type": "code",
   "execution_count": 13,
   "id": "a6207ba9-5f43-43c7-b986-e71d51042821",
   "metadata": {},
   "outputs": [
    {
     "data": {
      "text/html": [
       "<div>\n",
       "<style scoped>\n",
       "    .dataframe tbody tr th:only-of-type {\n",
       "        vertical-align: middle;\n",
       "    }\n",
       "\n",
       "    .dataframe tbody tr th {\n",
       "        vertical-align: top;\n",
       "    }\n",
       "\n",
       "    .dataframe thead th {\n",
       "        text-align: right;\n",
       "    }\n",
       "</style>\n",
       "<table border=\"1\" class=\"dataframe\">\n",
       "  <thead>\n",
       "    <tr style=\"text-align: right;\">\n",
       "      <th></th>\n",
       "      <th>Name</th>\n",
       "      <th>Sex</th>\n",
       "      <th>Nationality</th>\n",
       "      <th>Sport</th>\n",
       "      <th>Event</th>\n",
       "      <th>Medal</th>\n",
       "      <th>Season</th>\n",
       "      <th>City</th>\n",
       "    </tr>\n",
       "  </thead>\n",
       "  <tbody>\n",
       "    <tr>\n",
       "      <th>67088</th>\n",
       "      <td>Larissa Nevierov</td>\n",
       "      <td>F</td>\n",
       "      <td>ITA</td>\n",
       "      <td>Sailing</td>\n",
       "      <td>Sailing Women's One Person Dinghy</td>\n",
       "      <td>NaN</td>\n",
       "      <td>Summer</td>\n",
       "      <td>Sydney</td>\n",
       "    </tr>\n",
       "    <tr>\n",
       "      <th>75316</th>\n",
       "      <td>Ivelisse Echevarra</td>\n",
       "      <td>F</td>\n",
       "      <td>PUR</td>\n",
       "      <td>Softball</td>\n",
       "      <td>Softball Women's Softball</td>\n",
       "      <td>NaN</td>\n",
       "      <td>Summer</td>\n",
       "      <td>Atlanta</td>\n",
       "    </tr>\n",
       "    <tr>\n",
       "      <th>199510</th>\n",
       "      <td>Gwendolyn Lenna \"Gwen\" Torrence (-Waller, -Smith)</td>\n",
       "      <td>F</td>\n",
       "      <td>USA</td>\n",
       "      <td>Athletics</td>\n",
       "      <td>Athletics Women's 200 metres</td>\n",
       "      <td>NaN</td>\n",
       "      <td>Summer</td>\n",
       "      <td>Seoul</td>\n",
       "    </tr>\n",
       "    <tr>\n",
       "      <th>21900</th>\n",
       "      <td>Ruggero Pertile</td>\n",
       "      <td>M</td>\n",
       "      <td>ITA</td>\n",
       "      <td>Athletics</td>\n",
       "      <td>Athletics Men's Marathon</td>\n",
       "      <td>NaN</td>\n",
       "      <td>Summer</td>\n",
       "      <td>London</td>\n",
       "    </tr>\n",
       "    <tr>\n",
       "      <th>171525</th>\n",
       "      <td>Herv d'Encausse</td>\n",
       "      <td>M</td>\n",
       "      <td>FRA</td>\n",
       "      <td>Athletics</td>\n",
       "      <td>Athletics Men's Pole Vault</td>\n",
       "      <td>NaN</td>\n",
       "      <td>Summer</td>\n",
       "      <td>Mexico City</td>\n",
       "    </tr>\n",
       "  </tbody>\n",
       "</table>\n",
       "</div>"
      ],
      "text/plain": [
       "                                                     Name Sex Nationality  \\\n",
       "67088                                    Larissa Nevierov   F         ITA   \n",
       "75316                                  Ivelisse Echevarra   F         PUR   \n",
       "199510  Gwendolyn Lenna \"Gwen\" Torrence (-Waller, -Smith)   F         USA   \n",
       "21900                                     Ruggero Pertile   M         ITA   \n",
       "171525                                    Herv d'Encausse   M         FRA   \n",
       "\n",
       "            Sport                              Event Medal  Season  \\\n",
       "67088     Sailing  Sailing Women's One Person Dinghy   NaN  Summer   \n",
       "75316    Softball          Softball Women's Softball   NaN  Summer   \n",
       "199510  Athletics       Athletics Women's 200 metres   NaN  Summer   \n",
       "21900   Athletics           Athletics Men's Marathon   NaN  Summer   \n",
       "171525  Athletics         Athletics Men's Pole Vault   NaN  Summer   \n",
       "\n",
       "               City  \n",
       "67088        Sydney  \n",
       "75316       Atlanta  \n",
       "199510        Seoul  \n",
       "21900        London  \n",
       "171525  Mexico City  "
      ]
     },
     "execution_count": 13,
     "metadata": {},
     "output_type": "execute_result"
    }
   ],
   "source": [
    "olympics_cat = olympics_merge[cat_olympics]\n",
    "olympics_cat.sample(5)"
   ]
  },
  {
   "cell_type": "markdown",
   "id": "9409d185-76f8-4cb9-867c-83ed5865ae7a",
   "metadata": {},
   "source": [
    "## Wrangling Data"
   ]
  },
  {
   "cell_type": "markdown",
   "id": "a3e2d425-cb3c-468d-8a8b-2160ee66b6b2",
   "metadata": {},
   "source": [
    "### _Make Summary_"
   ]
  },
  {
   "cell_type": "code",
   "execution_count": 14,
   "id": "b18f8f69-6097-4f94-b302-a34cae1308aa",
   "metadata": {
    "tags": []
   },
   "outputs": [],
   "source": [
    "#numerical\n",
    "\n",
    "def var_summary(x):\n",
    "    return pd.Series([x.count(), x.isnull().sum(), x.sum(), x.mean(), x.median(),  x.std(), x.var(), x.min(), x.dropna().quantile(0.01), x.dropna().quantile(0.05),x.dropna().quantile(0.10),x.dropna().quantile(0.25),x.dropna().quantile(0.50),x.dropna().quantile(0.75), x.dropna().quantile(0.90),x.dropna().quantile(0.95), x.dropna().quantile(0.99),x.max()], \n",
    "                  index=['N', 'NMISS', 'SUM', 'MEAN','MEDIAN', 'STD', 'VAR', 'MIN', 'P1' , 'P5' ,'P10' ,'P25' ,'P50' ,'P75' ,'P90' ,'P95' ,'P99' ,'MAX'])\n",
    "\n",
    "num_summary = olympics_num.apply(lambda x: var_summary(x)).T"
   ]
  },
  {
   "cell_type": "code",
   "execution_count": 15,
   "id": "c4e0d858-b7bf-4b8f-8dbf-eed07a7e07e0",
   "metadata": {},
   "outputs": [
    {
     "data": {
      "text/html": [
       "<div>\n",
       "<style scoped>\n",
       "    .dataframe tbody tr th:only-of-type {\n",
       "        vertical-align: middle;\n",
       "    }\n",
       "\n",
       "    .dataframe tbody tr th {\n",
       "        vertical-align: top;\n",
       "    }\n",
       "\n",
       "    .dataframe thead th {\n",
       "        text-align: right;\n",
       "    }\n",
       "</style>\n",
       "<table border=\"1\" class=\"dataframe\">\n",
       "  <thead>\n",
       "    <tr style=\"text-align: right;\">\n",
       "      <th></th>\n",
       "      <th>N</th>\n",
       "      <th>NMISS</th>\n",
       "      <th>SUM</th>\n",
       "      <th>MEAN</th>\n",
       "      <th>MEDIAN</th>\n",
       "      <th>STD</th>\n",
       "      <th>VAR</th>\n",
       "      <th>MIN</th>\n",
       "      <th>P1</th>\n",
       "      <th>P5</th>\n",
       "      <th>P10</th>\n",
       "      <th>P25</th>\n",
       "      <th>P50</th>\n",
       "      <th>P75</th>\n",
       "      <th>P90</th>\n",
       "      <th>P95</th>\n",
       "      <th>P99</th>\n",
       "      <th>MAX</th>\n",
       "    </tr>\n",
       "  </thead>\n",
       "  <tbody>\n",
       "    <tr>\n",
       "      <th>Age</th>\n",
       "      <td>261642.0</td>\n",
       "      <td>9474.0</td>\n",
       "      <td>6686758.0</td>\n",
       "      <td>25.556898</td>\n",
       "      <td>24.0</td>\n",
       "      <td>6.393561</td>\n",
       "      <td>40.877620</td>\n",
       "      <td>10.0</td>\n",
       "      <td>15.0</td>\n",
       "      <td>18.0</td>\n",
       "      <td>19.0</td>\n",
       "      <td>21.0</td>\n",
       "      <td>24.0</td>\n",
       "      <td>28.0</td>\n",
       "      <td>33.0</td>\n",
       "      <td>37.0</td>\n",
       "      <td>48.0</td>\n",
       "      <td>97.0</td>\n",
       "    </tr>\n",
       "    <tr>\n",
       "      <th>Height</th>\n",
       "      <td>210945.0</td>\n",
       "      <td>60171.0</td>\n",
       "      <td>36986879.0</td>\n",
       "      <td>175.338970</td>\n",
       "      <td>175.0</td>\n",
       "      <td>10.518462</td>\n",
       "      <td>110.638048</td>\n",
       "      <td>127.0</td>\n",
       "      <td>150.0</td>\n",
       "      <td>158.0</td>\n",
       "      <td>162.0</td>\n",
       "      <td>168.0</td>\n",
       "      <td>175.0</td>\n",
       "      <td>183.0</td>\n",
       "      <td>188.0</td>\n",
       "      <td>193.0</td>\n",
       "      <td>200.0</td>\n",
       "      <td>226.0</td>\n",
       "    </tr>\n",
       "    <tr>\n",
       "      <th>Weight</th>\n",
       "      <td>208241.0</td>\n",
       "      <td>62875.0</td>\n",
       "      <td>14723137.0</td>\n",
       "      <td>70.702393</td>\n",
       "      <td>70.0</td>\n",
       "      <td>14.348020</td>\n",
       "      <td>205.865678</td>\n",
       "      <td>25.0</td>\n",
       "      <td>43.0</td>\n",
       "      <td>50.0</td>\n",
       "      <td>54.0</td>\n",
       "      <td>60.0</td>\n",
       "      <td>70.0</td>\n",
       "      <td>79.0</td>\n",
       "      <td>89.0</td>\n",
       "      <td>95.0</td>\n",
       "      <td>114.0</td>\n",
       "      <td>214.0</td>\n",
       "    </tr>\n",
       "    <tr>\n",
       "      <th>GamesID</th>\n",
       "      <td>271116.0</td>\n",
       "      <td>0.0</td>\n",
       "      <td>8535095.0</td>\n",
       "      <td>31.481340</td>\n",
       "      <td>35.0</td>\n",
       "      <td>13.701265</td>\n",
       "      <td>187.724665</td>\n",
       "      <td>0.0</td>\n",
       "      <td>2.0</td>\n",
       "      <td>6.0</td>\n",
       "      <td>9.0</td>\n",
       "      <td>21.0</td>\n",
       "      <td>35.0</td>\n",
       "      <td>43.0</td>\n",
       "      <td>48.0</td>\n",
       "      <td>50.0</td>\n",
       "      <td>50.0</td>\n",
       "      <td>50.0</td>\n",
       "    </tr>\n",
       "    <tr>\n",
       "      <th>Year</th>\n",
       "      <td>271116.0</td>\n",
       "      <td>0.0</td>\n",
       "      <td>536370060.0</td>\n",
       "      <td>1978.378480</td>\n",
       "      <td>1988.0</td>\n",
       "      <td>29.877632</td>\n",
       "      <td>892.672893</td>\n",
       "      <td>1896.0</td>\n",
       "      <td>1904.0</td>\n",
       "      <td>1920.0</td>\n",
       "      <td>1928.0</td>\n",
       "      <td>1960.0</td>\n",
       "      <td>1988.0</td>\n",
       "      <td>2002.0</td>\n",
       "      <td>2012.0</td>\n",
       "      <td>2016.0</td>\n",
       "      <td>2016.0</td>\n",
       "      <td>2016.0</td>\n",
       "    </tr>\n",
       "  </tbody>\n",
       "</table>\n",
       "</div>"
      ],
      "text/plain": [
       "                N    NMISS          SUM         MEAN  MEDIAN        STD  \\\n",
       "Age      261642.0   9474.0    6686758.0    25.556898    24.0   6.393561   \n",
       "Height   210945.0  60171.0   36986879.0   175.338970   175.0  10.518462   \n",
       "Weight   208241.0  62875.0   14723137.0    70.702393    70.0  14.348020   \n",
       "GamesID  271116.0      0.0    8535095.0    31.481340    35.0  13.701265   \n",
       "Year     271116.0      0.0  536370060.0  1978.378480  1988.0  29.877632   \n",
       "\n",
       "                VAR     MIN      P1      P5     P10     P25     P50     P75  \\\n",
       "Age       40.877620    10.0    15.0    18.0    19.0    21.0    24.0    28.0   \n",
       "Height   110.638048   127.0   150.0   158.0   162.0   168.0   175.0   183.0   \n",
       "Weight   205.865678    25.0    43.0    50.0    54.0    60.0    70.0    79.0   \n",
       "GamesID  187.724665     0.0     2.0     6.0     9.0    21.0    35.0    43.0   \n",
       "Year     892.672893  1896.0  1904.0  1920.0  1928.0  1960.0  1988.0  2002.0   \n",
       "\n",
       "            P90     P95     P99     MAX  \n",
       "Age        33.0    37.0    48.0    97.0  \n",
       "Height    188.0   193.0   200.0   226.0  \n",
       "Weight     89.0    95.0   114.0   214.0  \n",
       "GamesID    48.0    50.0    50.0    50.0  \n",
       "Year     2012.0  2016.0  2016.0  2016.0  "
      ]
     },
     "execution_count": 15,
     "metadata": {},
     "output_type": "execute_result"
    }
   ],
   "source": [
    "num_summary"
   ]
  },
  {
   "cell_type": "code",
   "execution_count": 16,
   "id": "df2c8c08-19c5-4a3e-a95e-0d00ec0d9d78",
   "metadata": {},
   "outputs": [],
   "source": [
    "#categorical\n",
    "\n",
    "def cat_summary(x):\n",
    "    return pd.Series([x.count(),x.isnull().sum(),x.value_counts(),x.unique()],\n",
    "                    index=['N','NMISS','ColumnNames','UniqueValues'])\n",
    "\n",
    "cat_summary = olympics_cat.apply(lambda x:cat_summary(x)).T"
   ]
  },
  {
   "cell_type": "code",
   "execution_count": 17,
   "id": "56b56709-ac1b-46e4-b17e-2e85e394ced6",
   "metadata": {},
   "outputs": [
    {
     "data": {
      "text/html": [
       "<div>\n",
       "<style scoped>\n",
       "    .dataframe tbody tr th:only-of-type {\n",
       "        vertical-align: middle;\n",
       "    }\n",
       "\n",
       "    .dataframe tbody tr th {\n",
       "        vertical-align: top;\n",
       "    }\n",
       "\n",
       "    .dataframe thead th {\n",
       "        text-align: right;\n",
       "    }\n",
       "</style>\n",
       "<table border=\"1\" class=\"dataframe\">\n",
       "  <thead>\n",
       "    <tr style=\"text-align: right;\">\n",
       "      <th></th>\n",
       "      <th>N</th>\n",
       "      <th>NMISS</th>\n",
       "      <th>ColumnNames</th>\n",
       "      <th>UniqueValues</th>\n",
       "    </tr>\n",
       "  </thead>\n",
       "  <tbody>\n",
       "    <tr>\n",
       "      <th>Name</th>\n",
       "      <td>271116</td>\n",
       "      <td>0</td>\n",
       "      <td>Robert Tait McKenzie           58\n",
       "Heikki Ilmar...</td>\n",
       "      <td>[A Dijiang, Mika Lauri Aarnikka, Morten Gjerdr...</td>\n",
       "    </tr>\n",
       "    <tr>\n",
       "      <th>Sex</th>\n",
       "      <td>271116</td>\n",
       "      <td>0</td>\n",
       "      <td>M    196594\n",
       "F     74522\n",
       "Name: Sex, dtype: int64</td>\n",
       "      <td>[M, F]</td>\n",
       "    </tr>\n",
       "    <tr>\n",
       "      <th>Nationality</th>\n",
       "      <td>271116</td>\n",
       "      <td>0</td>\n",
       "      <td>USA    18853\n",
       "FRA    12758\n",
       "GBR    12256\n",
       "ITA    ...</td>\n",
       "      <td>[CHN, FIN, NOR, EST, CHA, CUB, CHI, HUN, ITA, ...</td>\n",
       "    </tr>\n",
       "    <tr>\n",
       "      <th>Sport</th>\n",
       "      <td>271116</td>\n",
       "      <td>0</td>\n",
       "      <td>Athletics        38624\n",
       "Gymnastics       26707\n",
       "...</td>\n",
       "      <td>[Basketball, Sailing, Equestrianism, Wrestling...</td>\n",
       "    </tr>\n",
       "    <tr>\n",
       "      <th>Event</th>\n",
       "      <td>271116</td>\n",
       "      <td>0</td>\n",
       "      <td>Football Men's Football                       ...</td>\n",
       "      <td>[Basketball Men's Basketball, Sailing Men's Tw...</td>\n",
       "    </tr>\n",
       "    <tr>\n",
       "      <th>Medal</th>\n",
       "      <td>39783</td>\n",
       "      <td>231333</td>\n",
       "      <td>Gold      13372\n",
       "Bronze    13295\n",
       "Silver    1311...</td>\n",
       "      <td>[nan, Silver, Gold, Bronze]</td>\n",
       "    </tr>\n",
       "    <tr>\n",
       "      <th>Season</th>\n",
       "      <td>271116</td>\n",
       "      <td>0</td>\n",
       "      <td>Summer    222552\n",
       "Winter     48564\n",
       "Name: Season...</td>\n",
       "      <td>[Summer, Winter]</td>\n",
       "    </tr>\n",
       "    <tr>\n",
       "      <th>City</th>\n",
       "      <td>271116</td>\n",
       "      <td>0</td>\n",
       "      <td>London                    22426\n",
       "Athina        ...</td>\n",
       "      <td>[Barcelona, London, Antwerpen, Paris, Calgary,...</td>\n",
       "    </tr>\n",
       "  </tbody>\n",
       "</table>\n",
       "</div>"
      ],
      "text/plain": [
       "                  N   NMISS  \\\n",
       "Name         271116       0   \n",
       "Sex          271116       0   \n",
       "Nationality  271116       0   \n",
       "Sport        271116       0   \n",
       "Event        271116       0   \n",
       "Medal         39783  231333   \n",
       "Season       271116       0   \n",
       "City         271116       0   \n",
       "\n",
       "                                                   ColumnNames  \\\n",
       "Name         Robert Tait McKenzie           58\n",
       "Heikki Ilmar...   \n",
       "Sex            M    196594\n",
       "F     74522\n",
       "Name: Sex, dtype: int64   \n",
       "Nationality  USA    18853\n",
       "FRA    12758\n",
       "GBR    12256\n",
       "ITA    ...   \n",
       "Sport        Athletics        38624\n",
       "Gymnastics       26707\n",
       "...   \n",
       "Event        Football Men's Football                       ...   \n",
       "Medal        Gold      13372\n",
       "Bronze    13295\n",
       "Silver    1311...   \n",
       "Season       Summer    222552\n",
       "Winter     48564\n",
       "Name: Season...   \n",
       "City         London                    22426\n",
       "Athina        ...   \n",
       "\n",
       "                                                  UniqueValues  \n",
       "Name         [A Dijiang, Mika Lauri Aarnikka, Morten Gjerdr...  \n",
       "Sex                                                     [M, F]  \n",
       "Nationality  [CHN, FIN, NOR, EST, CHA, CUB, CHI, HUN, ITA, ...  \n",
       "Sport        [Basketball, Sailing, Equestrianism, Wrestling...  \n",
       "Event        [Basketball Men's Basketball, Sailing Men's Tw...  \n",
       "Medal                              [nan, Silver, Gold, Bronze]  \n",
       "Season                                        [Summer, Winter]  \n",
       "City         [Barcelona, London, Antwerpen, Paris, Calgary,...  "
      ]
     },
     "execution_count": 17,
     "metadata": {},
     "output_type": "execute_result"
    }
   ],
   "source": [
    "cat_summary"
   ]
  },
  {
   "cell_type": "markdown",
   "id": "56546bd4-3509-46ff-bd55-8dbc1b1021e1",
   "metadata": {
    "tags": []
   },
   "source": [
    "### _With Outliers_"
   ]
  },
  {
   "cell_type": "code",
   "execution_count": 18,
   "id": "5044d61b-fc15-4d61-8a21-6ed5ec09c1cc",
   "metadata": {
    "tags": []
   },
   "outputs": [],
   "source": [
    "import seaborn as sns\n",
    "import matplotlib.pyplot as plt\n",
    "from matplotlib.backends.backend_pdf import PdfPages\n",
    "%matplotlib inline\n",
    "\n",
    "# Ignore warnings\n",
    "import warnings\n",
    "warnings.filterwarnings('ignore')"
   ]
  },
  {
   "cell_type": "code",
   "execution_count": 19,
   "id": "eb5e75eb-cbfd-44a1-981c-53b8e4e6b884",
   "metadata": {},
   "outputs": [
    {
     "data": {
      "text/plain": [
       "<seaborn.axisgrid.FacetGrid at 0x22daab4b8b0>"
      ]
     },
     "execution_count": 19,
     "metadata": {},
     "output_type": "execute_result"
    },
    {
     "data": {
      "image/png": "[encoded data removed]",
      "text/plain": [
       "<Figure size 360x360 with 1 Axes>"
      ]
     },
     "metadata": {
      "needs_background": "light"
     },
     "output_type": "display_data"
    }
   ],
   "source": [
    "# Seaborn scatter plot with regression line\n",
    "# sns.lmplot : Include straight line\n",
    "\n",
    "sns.lmplot(x='Weight', y='Height', data=olympics_num)"
   ]
  },
  {
   "cell_type": "markdown",
   "id": "5a34b9b5-8e01-49eb-955e-297b3d5388f0",
   "metadata": {},
   "source": [
    "### _Handling Outliers_"
   ]
  },
  {
   "cell_type": "code",
   "execution_count": 20,
   "id": "95479626-7bc4-4087-9fb6-88ee59e1f8c3",
   "metadata": {
    "tags": []
   },
   "outputs": [],
   "source": [
    "#Handling Outliers for numerical data - Through function\n",
    "\n",
    "def outlier_capping(x):\n",
    "    x = x.clip(upper=x.quantile(0.99))\n",
    "    x = x.clip(lower=x.quantile(0.01))\n",
    "    return x\n",
    "\n",
    "olympics_num = olympics_num.apply(lambda x: outlier_capping(x))"
   ]
  },
  {
   "cell_type": "markdown",
   "id": "944c5908-8d7d-4f05-992d-8e3df1a7f756",
   "metadata": {},
   "source": [
    "#### _Check linearity without outliers_"
   ]
  },
  {
   "cell_type": "code",
   "execution_count": 21,
   "id": "b3be927c-b8f5-41e6-9ff4-f5b37fab8a56",
   "metadata": {},
   "outputs": [
    {
     "data": {
      "text/plain": [
       "<seaborn.axisgrid.FacetGrid at 0x22db3f89970>"
      ]
     },
     "execution_count": 21,
     "metadata": {},
     "output_type": "execute_result"
    },
    {
     "data": {
      "image/png": "[encoded data removed]",
      "text/plain": [
       "<Figure size 360x360 with 1 Axes>"
      ]
     },
     "metadata": {
      "needs_background": "light"
     },
     "output_type": "display_data"
    }
   ],
   "source": [
    "# Seaborn scatter plot with regression line\n",
    "# sns.lmplot : Include straight line\n",
    "\n",
    "sns.lmplot(x='Weight', y='Height', data=olympics_num)"
   ]
  },
  {
   "cell_type": "code",
   "execution_count": 22,
   "id": "d7f8f3ca-2d19-4e78-8d4b-c0e66558b748",
   "metadata": {},
   "outputs": [
    {
     "data": {
      "text/plain": [
       "<AxesSubplot:xlabel='Height'>"
      ]
     },
     "execution_count": 22,
     "metadata": {},
     "output_type": "execute_result"
    },
    {
     "data": {
      "image/png": "[encoded data removed]",
      "text/plain": [
       "<Figure size 432x288 with 1 Axes>"
      ]
     },
     "metadata": {
      "needs_background": "light"
     },
     "output_type": "display_data"
    }
   ],
   "source": [
    "sns.boxplot(olympics_events['Height']) #got outliers to differentiate"
   ]
  },
  {
   "cell_type": "code",
   "execution_count": 23,
   "id": "7747b7c3-1912-4141-a085-1fbeaeefa4b3",
   "metadata": {},
   "outputs": [
    {
     "data": {
      "text/plain": [
       "<AxesSubplot:xlabel='Height'>"
      ]
     },
     "execution_count": 23,
     "metadata": {},
     "output_type": "execute_result"
    },
    {
     "data": {
      "image/png": "[encoded data removed]",
      "text/plain": [
       "<Figure size 432x288 with 1 Axes>"
      ]
     },
     "metadata": {
      "needs_background": "light"
     },
     "output_type": "display_data"
    }
   ],
   "source": [
    "sns.boxplot(olympics_num['Height']) #no outliers anymore"
   ]
  },
  {
   "cell_type": "markdown",
   "id": "abcba11d-04a6-4092-a198-62f5e1449973",
   "metadata": {},
   "source": [
    "### _Handling Missing Values_"
   ]
  },
  {
   "cell_type": "code",
   "execution_count": 24,
   "id": "450c551a-121e-43ec-ab1d-c4c6b66d754b",
   "metadata": {
    "tags": []
   },
   "outputs": [],
   "source": [
    "#Handling missings - by Function (Makethe function to treat all data in one shot)\n",
    "\n",
    "def Missing_imputation(x):\n",
    "    x = x.fillna(x.mean())\n",
    "    return x\n",
    "\n",
    "olympics_num = olympics_num.apply(lambda x: Missing_imputation(x))"
   ]
  },
  {
   "cell_type": "code",
   "execution_count": 25,
   "id": "8844c4c5-6a4d-4794-8b26-dfe1e5b16cc5",
   "metadata": {},
   "outputs": [],
   "source": [
    "# replacing na values in Medal with creating not available\n",
    "\n",
    "olympics_cat[\"Medal\"].fillna(\"NA\", inplace = True)"
   ]
  },
  {
   "cell_type": "code",
   "execution_count": 26,
   "id": "853e3522-42f5-4f0b-82b0-7b80bfc46f29",
   "metadata": {},
   "outputs": [
    {
     "name": "stdout",
     "output_type": "stream",
     "text": [
      "\n",
      "Missing values in numerical data :   0\n",
      "\n",
      "Missing values in categorical data :   0\n"
     ]
    }
   ],
   "source": [
    "# Find the total number of missing values in the numerical data i.e custdata_df_num\n",
    "\n",
    "print (\"\\nMissing values in numerical data :  \", olympics_num.isnull().sum().values.sum())\n",
    "print (\"\\nMissing values in categorical data :  \", olympics_cat.isnull().sum().values.sum())"
   ]
  },
  {
   "cell_type": "markdown",
   "id": "3e380ce9-8c5e-42ad-8892-1afa7e1d3cd0",
   "metadata": {},
   "source": [
    "## Merging Numerical and Categorical Data"
   ]
  },
  {
   "cell_type": "code",
   "execution_count": 27,
   "id": "274876ea-333d-4e79-8d3b-f712d7fe18ce",
   "metadata": {},
   "outputs": [
    {
     "data": {
      "text/html": [
       "<div>\n",
       "<style scoped>\n",
       "    .dataframe tbody tr th:only-of-type {\n",
       "        vertical-align: middle;\n",
       "    }\n",
       "\n",
       "    .dataframe tbody tr th {\n",
       "        vertical-align: top;\n",
       "    }\n",
       "\n",
       "    .dataframe thead th {\n",
       "        text-align: right;\n",
       "    }\n",
       "</style>\n",
       "<table border=\"1\" class=\"dataframe\">\n",
       "  <thead>\n",
       "    <tr style=\"text-align: right;\">\n",
       "      <th></th>\n",
       "      <th>Name</th>\n",
       "      <th>Sex</th>\n",
       "      <th>Nationality</th>\n",
       "      <th>Sport</th>\n",
       "      <th>Event</th>\n",
       "      <th>Medal</th>\n",
       "      <th>Season</th>\n",
       "      <th>City</th>\n",
       "      <th>Age</th>\n",
       "      <th>Height</th>\n",
       "      <th>Weight</th>\n",
       "      <th>GamesID</th>\n",
       "      <th>Year</th>\n",
       "    </tr>\n",
       "  </thead>\n",
       "  <tbody>\n",
       "    <tr>\n",
       "      <th>203585</th>\n",
       "      <td>Charles Thomas King</td>\n",
       "      <td>M</td>\n",
       "      <td>GBR</td>\n",
       "      <td>Cycling</td>\n",
       "      <td>Cycling Men's Team Pursuit, 4,000 metres</td>\n",
       "      <td>Bronze</td>\n",
       "      <td>Summer</td>\n",
       "      <td>Berlin</td>\n",
       "      <td>25.0</td>\n",
       "      <td>175.3</td>\n",
       "      <td>70.6</td>\n",
       "      <td>13</td>\n",
       "      <td>1936</td>\n",
       "    </tr>\n",
       "    <tr>\n",
       "      <th>206137</th>\n",
       "      <td>Roy Mason Staley</td>\n",
       "      <td>M</td>\n",
       "      <td>USA</td>\n",
       "      <td>Athletics</td>\n",
       "      <td>Athletics Men's 110 metres Hurdles</td>\n",
       "      <td>NA</td>\n",
       "      <td>Summer</td>\n",
       "      <td>Berlin</td>\n",
       "      <td>21.0</td>\n",
       "      <td>183.0</td>\n",
       "      <td>77.0</td>\n",
       "      <td>13</td>\n",
       "      <td>1936</td>\n",
       "    </tr>\n",
       "    <tr>\n",
       "      <th>146174</th>\n",
       "      <td>Roman Hagara</td>\n",
       "      <td>M</td>\n",
       "      <td>AUT</td>\n",
       "      <td>Sailing</td>\n",
       "      <td>Sailing Mixed Multihull</td>\n",
       "      <td>Gold</td>\n",
       "      <td>Summer</td>\n",
       "      <td>Athina</td>\n",
       "      <td>38.0</td>\n",
       "      <td>171.0</td>\n",
       "      <td>68.0</td>\n",
       "      <td>44</td>\n",
       "      <td>2004</td>\n",
       "    </tr>\n",
       "    <tr>\n",
       "      <th>44242</th>\n",
       "      <td>Helen Newington Wills (-Moody, -Roark)</td>\n",
       "      <td>F</td>\n",
       "      <td>USA</td>\n",
       "      <td>Art Competitions</td>\n",
       "      <td>Art Competitions Mixed Painting, Unknown Event</td>\n",
       "      <td>NA</td>\n",
       "      <td>Summer</td>\n",
       "      <td>Los Angeles</td>\n",
       "      <td>26.0</td>\n",
       "      <td>175.3</td>\n",
       "      <td>70.6</td>\n",
       "      <td>11</td>\n",
       "      <td>1932</td>\n",
       "    </tr>\n",
       "    <tr>\n",
       "      <th>249588</th>\n",
       "      <td>Julian Joseph Rossi</td>\n",
       "      <td>M</td>\n",
       "      <td>AUS</td>\n",
       "      <td>Boxing</td>\n",
       "      <td>Boxing Men's Light-Welterweight</td>\n",
       "      <td>NA</td>\n",
       "      <td>Summer</td>\n",
       "      <td>Tokyo</td>\n",
       "      <td>22.0</td>\n",
       "      <td>170.0</td>\n",
       "      <td>64.0</td>\n",
       "      <td>23</td>\n",
       "      <td>1964</td>\n",
       "    </tr>\n",
       "  </tbody>\n",
       "</table>\n",
       "</div>"
      ],
      "text/plain": [
       "                                          Name Sex Nationality  \\\n",
       "203585                     Charles Thomas King   M         GBR   \n",
       "206137                        Roy Mason Staley   M         USA   \n",
       "146174                            Roman Hagara   M         AUT   \n",
       "44242   Helen Newington Wills (-Moody, -Roark)   F         USA   \n",
       "249588                     Julian Joseph Rossi   M         AUS   \n",
       "\n",
       "                   Sport                                           Event  \\\n",
       "203585           Cycling        Cycling Men's Team Pursuit, 4,000 metres   \n",
       "206137         Athletics              Athletics Men's 110 metres Hurdles   \n",
       "146174           Sailing                         Sailing Mixed Multihull   \n",
       "44242   Art Competitions  Art Competitions Mixed Painting, Unknown Event   \n",
       "249588            Boxing                 Boxing Men's Light-Welterweight   \n",
       "\n",
       "         Medal  Season         City   Age  Height  Weight  GamesID  Year  \n",
       "203585  Bronze  Summer       Berlin  25.0   175.3    70.6       13  1936  \n",
       "206137      NA  Summer       Berlin  21.0   183.0    77.0       13  1936  \n",
       "146174    Gold  Summer       Athina  38.0   171.0    68.0       44  2004  \n",
       "44242       NA  Summer  Los Angeles  26.0   175.3    70.6       11  1932  \n",
       "249588      NA  Summer        Tokyo  22.0   170.0    64.0       23  1964  "
      ]
     },
     "execution_count": 27,
     "metadata": {},
     "output_type": "execute_result"
    }
   ],
   "source": [
    "olympics = pd.concat([olympics_cat, olympics_num], axis=1).round(1)\n",
    "olympics.sample(5)"
   ]
  },
  {
   "cell_type": "code",
   "execution_count": 28,
   "id": "330ffe13-953b-48a4-b1dc-f37e5ffeb159",
   "metadata": {},
   "outputs": [
    {
     "data": {
      "text/plain": [
       "Index(['Name', 'Sex', 'Nationality', 'Sport', 'Event', 'Medal', 'Season',\n",
       "       'City', 'Age', 'Height', 'Weight', 'GamesID', 'Year'],\n",
       "      dtype='object')"
      ]
     },
     "execution_count": 28,
     "metadata": {},
     "output_type": "execute_result"
    }
   ],
   "source": [
    "olympics.columns"
   ]
  },
  {
   "cell_type": "code",
   "execution_count": 29,
   "id": "b44e56e9-9c8c-4d4a-8bb0-06c144bb9341",
   "metadata": {},
   "outputs": [],
   "source": [
    "olympics.to_csv('olympicsdone.csv')"
   ]
  },
  {
   "cell_type": "code",
   "execution_count": null,
   "id": "613c6a2c-331c-4fc1-a7d0-e13e86aa1f46",
   "metadata": {},
   "outputs": [],
   "source": []
  },
  {
   "cell_type": "code",
   "execution_count": null,
   "id": "c4575142-8ce0-46d7-aee8-ad89f122e887",
   "metadata": {},
   "outputs": [],
   "source": []
  },
  {
   "cell_type": "code",
   "execution_count": null,
   "id": "19f8b612-c152-4593-89f8-e10df2bb1805",
   "metadata": {},
   "outputs": [],
   "source": []
  },
  {
   "cell_type": "code",
   "execution_count": null,
   "id": "98061ef3-7e06-42ab-9128-dd3ff87807f4",
   "metadata": {},
   "outputs": [],
   "source": []
  },
  {
   "cell_type": "code",
   "execution_count": null,
   "id": "31db4340-c4dd-4b4a-83c3-3b6b015db1da",
   "metadata": {},
   "outputs": [],
   "source": []
  },
  {
   "cell_type": "code",
   "execution_count": null,
   "id": "166080d7-f915-4e8e-b899-1a7a7b081f7d",
   "metadata": {
    "tags": []
   },
   "outputs": [],
   "source": [
    "try buat relational database sql"
   ]
  },
  {
   "cell_type": "code",
   "execution_count": null,
   "id": "42b1d9b9-57f1-4140-abe5-e4d05e0188ef",
   "metadata": {},
   "outputs": [],
   "source": [
    "copy buat visualization"
   ]
  },
  {
   "cell_type": "code",
   "execution_count": null,
   "id": "d26b3d70-28f3-4b30-8879-03f921bf9f57",
   "metadata": {},
   "outputs": [],
   "source": []
  },
  {
   "cell_type": "code",
   "execution_count": null,
   "id": "b56b86c4-d35b-4786-9dd9-d5c29aefba4b",
   "metadata": {},
   "outputs": [],
   "source": []
  },
  {
   "cell_type": "code",
   "execution_count": 31,
   "id": "39bc0577-8f02-4280-a0d9-ad1acab8a4a2",
   "metadata": {
    "collapsed": true,
    "jupyter": {
     "outputs_hidden": true,
     "source_hidden": true
    },
    "tags": []
   },
   "outputs": [
    {
     "name": "stdout",
     "output_type": "stream",
     "text": [
      "Requirement already satisfied: ipython-sql in c:\\users\\user\\anaconda3\\lib\\site-packages (0.4.0)\n",
      "Requirement already satisfied: ipython>=1.0 in c:\\users\\user\\anaconda3\\lib\\site-packages (from ipython-sql) (7.22.0)\n",
      "Requirement already satisfied: sqlalchemy>=0.6.7 in c:\\users\\user\\anaconda3\\lib\\site-packages (from ipython-sql) (1.4.7)\n",
      "Requirement already satisfied: ipython-genutils>=0.1.0 in c:\\users\\user\\anaconda3\\lib\\site-packages (from ipython-sql) (0.2.0)\n",
      "Requirement already satisfied: six in c:\\users\\user\\anaconda3\\lib\\site-packages (from ipython-sql) (1.15.0)\n",
      "Requirement already satisfied: sqlparse in c:\\users\\user\\anaconda3\\lib\\site-packages (from ipython-sql) (0.4.2)\n",
      "Requirement already satisfied: prettytable<1 in c:\\users\\user\\anaconda3\\lib\\site-packages (from ipython-sql) (0.7.2)\n",
      "Requirement already satisfied: jedi>=0.16 in c:\\users\\user\\anaconda3\\lib\\site-packages (from ipython>=1.0->ipython-sql) (0.17.2)\n",
      "Requirement already satisfied: setuptools>=18.5 in c:\\users\\user\\anaconda3\\lib\\site-packages (from ipython>=1.0->ipython-sql) (52.0.0.post20210125)\n",
      "Requirement already satisfied: pickleshare in c:\\users\\user\\anaconda3\\lib\\site-packages (from ipython>=1.0->ipython-sql) (0.7.5)\n",
      "Requirement already satisfied: prompt-toolkit!=3.0.0,!=3.0.1,<3.1.0,>=2.0.0 in c:\\users\\user\\anaconda3\\lib\\site-packages (from ipython>=1.0->ipython-sql) (3.0.17)\n",
      "Requirement already satisfied: backcall in c:\\users\\user\\anaconda3\\lib\\site-packages (from ipython>=1.0->ipython-sql) (0.2.0)\n",
      "Requirement already satisfied: decorator in c:\\users\\user\\anaconda3\\lib\\site-packages (from ipython>=1.0->ipython-sql) (5.0.6)\n",
      "Requirement already satisfied: pygments in c:\\users\\user\\anaconda3\\lib\\site-packages (from ipython>=1.0->ipython-sql) (2.8.1)\n",
      "Requirement already satisfied: traitlets>=4.2 in c:\\users\\user\\anaconda3\\lib\\site-packages (from ipython>=1.0->ipython-sql) (5.0.5)\n",
      "Requirement already satisfied: colorama in c:\\users\\user\\anaconda3\\lib\\site-packages (from ipython>=1.0->ipython-sql) (0.4.4)\n",
      "Requirement already satisfied: parso<0.8.0,>=0.7.0 in c:\\users\\user\\anaconda3\\lib\\site-packages (from jedi>=0.16->ipython>=1.0->ipython-sql) (0.7.0)\n",
      "Requirement already satisfied: wcwidth in c:\\users\\user\\anaconda3\\lib\\site-packages (from prompt-toolkit!=3.0.0,!=3.0.1,<3.1.0,>=2.0.0->ipython>=1.0->ipython-sql) (0.2.5)\n",
      "Requirement already satisfied: greenlet!=0.4.17 in c:\\users\\user\\anaconda3\\lib\\site-packages (from sqlalchemy>=0.6.7->ipython-sql) (1.0.0)\n"
     ]
    }
   ],
   "source": [
    "#Lets Import Sqlite and CSV\n",
    "!pip install ipython-sql"
   ]
  },
  {
   "cell_type": "code",
   "execution_count": 32,
   "id": "83214566-ce44-49a8-b119-d0e8760693fe",
   "metadata": {},
   "outputs": [],
   "source": [
    "import csv,sqlite3"
   ]
  },
  {
   "cell_type": "code",
   "execution_count": 33,
   "id": "163f8d5f-3b14-4eab-9140-021c31c0d4f3",
   "metadata": {},
   "outputs": [],
   "source": [
    "%load_ext sql"
   ]
  },
  {
   "cell_type": "code",
   "execution_count": 42,
   "id": "060dfeba-c3a4-4874-89ec-454ebf429459",
   "metadata": {},
   "outputs": [],
   "source": [
    "conn= sqlite3.connect('Olympics1.db')  #if no database is found, it creates a new database with\n",
    "c= conn.cursor()\n"
   ]
  },
  {
   "cell_type": "code",
   "execution_count": 45,
   "id": "4842f149-ec94-4d72-b6e5-398d5d9552e5",
   "metadata": {
    "tags": []
   },
   "outputs": [
    {
     "data": {
      "text/plain": [
       "<sqlite3.Cursor at 0x209ddcb39d0>"
      ]
     },
     "execution_count": 45,
     "metadata": {},
     "output_type": "execute_result"
    }
   ],
   "source": [
    "c.execute(\"\"\"CREATE TABLE IF NOT EXISTS Events\n",
    "            (id NUMERIC PRIMARY KEY,\n",
    "             name TEXT,\n",
    "             sex TEXT,\n",
    "             age NUMERIC,\n",
    "             medal TEXT,\n",
    "             sport TEXT,\n",
    "             event TEXT,\n",
    "             nationality TEXT,\n",
    "             height NUMERIC,\n",
    "             weight NUMERIC,\n",
    "             gamesid NUMERIC\n",
    "            );\"\"\")"
   ]
  },
  {
   "cell_type": "code",
   "execution_count": 50,
   "id": "bb2b8c32-ea87-40a9-bee4-bb5ae87a73a7",
   "metadata": {},
   "outputs": [],
   "source": [
    "with open('cleanedolympics.csv','r') as f:\n",
    "    dr = csv.DictReader(f)\n",
    "    #to_db = [(i['name'],i['sex'],i['age'],i['height'],i['weight'],i['event'],\n",
    "             # i['nationality'],i['sport'],i['medal'],i['gamesid']) for i in dr]"
   ]
  },
  {
   "cell_type": "code",
   "execution_count": 51,
   "id": "53bf8674-4f23-4fe9-95df-d2fe7a981653",
   "metadata": {},
   "outputs": [],
   "source": [
    "conn.commit()"
   ]
  },
  {
   "cell_type": "code",
   "execution_count": 52,
   "id": "30749b2f-e8be-4285-9175-2a2163f8994e",
   "metadata": {},
   "outputs": [
    {
     "ename": "OperationalError",
     "evalue": "no such table: cleanedolympics",
     "output_type": "error",
     "traceback": [
      "\u001b[1;31m---------------------------------------------------------------------------\u001b[0m",
      "\u001b[1;31mOperationalError\u001b[0m                          Traceback (most recent call last)",
      "\u001b[1;32m<ipython-input-52-539bce600f68>\u001b[0m in \u001b[0;36m<module>\u001b[1;34m\u001b[0m\n\u001b[1;32m----> 1\u001b[1;33m \u001b[1;32mfor\u001b[0m \u001b[0mrow\u001b[0m \u001b[1;32min\u001b[0m \u001b[0mc\u001b[0m\u001b[1;33m.\u001b[0m\u001b[0mexecute\u001b[0m\u001b[1;33m(\u001b[0m\u001b[1;34m\"SELECT * FROM cleanedolympics LIMIT 10\"\u001b[0m\u001b[1;33m)\u001b[0m\u001b[1;33m:\u001b[0m\u001b[1;33m\u001b[0m\u001b[1;33m\u001b[0m\u001b[0m\n\u001b[0m\u001b[0;32m      2\u001b[0m     \u001b[0mprint\u001b[0m\u001b[1;33m(\u001b[0m\u001b[0mrow\u001b[0m\u001b[1;33m)\u001b[0m\u001b[1;33m\u001b[0m\u001b[1;33m\u001b[0m\u001b[0m\n",
      "\u001b[1;31mOperationalError\u001b[0m: no such table: cleanedolympics"
     ]
    }
   ],
   "source": [
    "for row in c.execute(\"SELECT * FROM cleanedolympics LIMIT 10\"):\n",
    "    print(row)"
   ]
  },
  {
   "cell_type": "code",
   "execution_count": null,
   "id": "0a2e7ff3-32c6-49e0-ae70-f27e66330d8d",
   "metadata": {},
   "outputs": [],
   "source": []
  }
 ],
 "metadata": {
  "kernelspec": {
   "display_name": "Python 3",
   "language": "python",
   "name": "python3"
  },
  "language_info": {
   "codemirror_mode": {
    "name": "ipython",
    "version": 3
   },
   "file_extension": ".py",
   "mimetype": "text/x-python",
   "name": "python",
   "nbconvert_exporter": "python",
   "pygments_lexer": "ipython3",
   "version": "3.8.8"
  }
 },
 "nbformat": 4,
 "nbformat_minor": 5
}
